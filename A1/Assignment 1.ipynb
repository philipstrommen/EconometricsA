{
 "cells": [
  {
   "cell_type": "markdown",
   "metadata": {},
   "source": [
    "**Importerer data**"
   ]
  },
  {
   "cell_type": "code",
   "execution_count": 2,
   "metadata": {},
   "outputs": [],
   "source": [
    "import pandas as pd\n",
    "df = pd.read_stata('A1_kommune.dta')"
   ]
  },
  {
   "cell_type": "markdown",
   "metadata": {},
   "source": [
    "Exercise1"
   ]
  },
  {
   "cell_type": "code",
   "execution_count": 3,
   "metadata": {},
   "outputs": [
    {
     "data": {
      "text/html": [
       "<div>\n",
       "<style scoped>\n",
       "    .dataframe tbody tr th:only-of-type {\n",
       "        vertical-align: middle;\n",
       "    }\n",
       "\n",
       "    .dataframe tbody tr th {\n",
       "        vertical-align: top;\n",
       "    }\n",
       "\n",
       "    .dataframe thead th {\n",
       "        text-align: right;\n",
       "    }\n",
       "</style>\n",
       "<table border=\"1\" class=\"dataframe\">\n",
       "  <thead>\n",
       "    <tr style=\"text-align: right;\">\n",
       "      <th></th>\n",
       "      <th>taxrev</th>\n",
       "      <th>taxrate</th>\n",
       "      <th>pop</th>\n",
       "    </tr>\n",
       "  </thead>\n",
       "  <tbody>\n",
       "    <tr>\n",
       "      <th>count</th>\n",
       "      <td>98.000000</td>\n",
       "      <td>98.000000</td>\n",
       "      <td>98.000000</td>\n",
       "    </tr>\n",
       "    <tr>\n",
       "      <th>mean</th>\n",
       "      <td>4477.341309</td>\n",
       "      <td>25.208162</td>\n",
       "      <td>56475.887755</td>\n",
       "    </tr>\n",
       "    <tr>\n",
       "      <th>std</th>\n",
       "      <td>5251.175293</td>\n",
       "      <td>0.908003</td>\n",
       "      <td>62925.301713</td>\n",
       "    </tr>\n",
       "    <tr>\n",
       "      <th>min</th>\n",
       "      <td>211.228409</td>\n",
       "      <td>22.799999</td>\n",
       "      <td>1969.000000</td>\n",
       "    </tr>\n",
       "    <tr>\n",
       "      <th>25%</th>\n",
       "      <td>2466.702271</td>\n",
       "      <td>24.799999</td>\n",
       "      <td>29997.750000</td>\n",
       "    </tr>\n",
       "    <tr>\n",
       "      <th>50%</th>\n",
       "      <td>3317.848633</td>\n",
       "      <td>25.299999</td>\n",
       "      <td>43475.000000</td>\n",
       "    </tr>\n",
       "    <tr>\n",
       "      <th>75%</th>\n",
       "      <td>4786.060913</td>\n",
       "      <td>25.700001</td>\n",
       "      <td>59733.000000</td>\n",
       "    </tr>\n",
       "    <tr>\n",
       "      <th>max</th>\n",
       "      <td>44170.335938</td>\n",
       "      <td>27.799999</td>\n",
       "      <td>528208.000000</td>\n",
       "    </tr>\n",
       "  </tbody>\n",
       "</table>\n",
       "</div>"
      ],
      "text/plain": [
       "             taxrev    taxrate            pop\n",
       "count     98.000000  98.000000      98.000000\n",
       "mean    4477.341309  25.208162   56475.887755\n",
       "std     5251.175293   0.908003   62925.301713\n",
       "min      211.228409  22.799999    1969.000000\n",
       "25%     2466.702271  24.799999   29997.750000\n",
       "50%     3317.848633  25.299999   43475.000000\n",
       "75%     4786.060913  25.700001   59733.000000\n",
       "max    44170.335938  27.799999  528208.000000"
      ]
     },
     "execution_count": 3,
     "metadata": {},
     "output_type": "execute_result"
    }
   ],
   "source": [
    "#Tjekker variabel navne\n",
    "df_navne = df.columns\n",
    "\n",
    "#Tjekker data dimension\n",
    "df_dim = df.shape\n",
    "\n",
    "#Regner mean og afvigelse\n",
    "vars = ['taxrev', 'taxrate', 'pop']\n",
    "df[vars].describe()"
   ]
  },
  {
   "cell_type": "code",
   "execution_count": 4,
   "metadata": {},
   "outputs": [
    {
     "name": "stdout",
     "output_type": "stream",
     "text": [
      "                            OLS Regression Results                            \n",
      "==============================================================================\n",
      "Dep. Variable:              logtaxrev   R-squared:                       0.980\n",
      "Model:                            OLS   Adj. R-squared:                  0.980\n",
      "Method:                 Least Squares   F-statistic:                     2344.\n",
      "Date:                Tue, 17 Sep 2024   Prob (F-statistic):           1.42e-81\n",
      "Time:                        15:14:17   Log-Likelihood:                 79.497\n",
      "No. Observations:                  98   AIC:                            -153.0\n",
      "Df Residuals:                      95   BIC:                            -145.2\n",
      "Df Model:                           2                                         \n",
      "Covariance Type:            nonrobust                                         \n",
      "==============================================================================\n",
      "                 coef    std err          t      P>|t|      [0.025      0.975]\n",
      "------------------------------------------------------------------------------\n",
      "const         -2.8022      0.376     -7.461      0.000      -3.548      -2.057\n",
      "taxrate        0.0226      0.012      1.816      0.072      -0.002       0.047\n",
      "logpop         0.9711      0.014     67.471      0.000       0.943       1.000\n",
      "==============================================================================\n",
      "Omnibus:                       15.730   Durbin-Watson:                   2.007\n",
      "Prob(Omnibus):                  0.000   Jarque-Bera (JB):               20.068\n",
      "Skew:                           0.810   Prob(JB):                     4.39e-05\n",
      "Kurtosis:                       4.514   Cond. No.                         933.\n",
      "==============================================================================\n",
      "\n",
      "Notes:\n",
      "[1] Standard Errors assume that the covariance matrix of the errors is correctly specified.\n"
     ]
    }
   ],
   "source": [
    "import numpy as np\n",
    "import statsmodels.api as sm\n",
    "\n",
    "df['logtaxrev']=np.log(df.taxrev)\n",
    "df['logpop']=np.log(df['pop'])\n",
    "df['const']=1\n",
    "\n",
    "model_sm = sm.OLS(df['logtaxrev'], df[['const','taxrate','logpop']]).fit()\n",
    "print(model_sm.summary())   \n",
    "\n",
    "\n",
    "\n",
    "\n",
    "\n"
   ]
  }
 ],
 "metadata": {
  "kernelspec": {
   "display_name": "base",
   "language": "python",
   "name": "python3"
  },
  "language_info": {
   "codemirror_mode": {
    "name": "ipython",
    "version": 3
   },
   "file_extension": ".py",
   "mimetype": "text/x-python",
   "name": "python",
   "nbconvert_exporter": "python",
   "pygments_lexer": "ipython3",
   "version": "3.12.2"
  }
 },
 "nbformat": 4,
 "nbformat_minor": 2
}
