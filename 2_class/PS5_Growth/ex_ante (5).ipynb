{
 "cells": [
  {
   "cell_type": "code",
   "execution_count": 1,
   "metadata": {},
   "outputs": [],
   "source": [
    "import numpy as np\n",
    "import pandas as pd\n",
    "import statsmodels.api as sm"
   ]
  },
  {
   "cell_type": "markdown",
   "metadata": {},
   "source": [
    "---\n",
    "\n",
    "## Økonometri A\n",
    "\n",
    "# Problem set 5\n",
    "\n",
    "---\n",
    "\n"
   ]
  },
  {
   "cell_type": "markdown",
   "metadata": {},
   "source": [
    "### Vækstregressioner: Absolut og betinget konvergens\n",
    "\n",
    "I denne ugeseddel skal I udvide regressionsmodellen fra ugeseddel 3, hvor I så på hypotesen om absolut og betinget konvergens, ved at inkludere information om hvert lands humankapital. I Makroøkonomi A vil I se, at en model uden humankapital vil underestimere betydningen af opsparing og befolkningsvækst på BNP pr. arbejder og samtidig overestimere hastigheden af, hvor hurtigt et land konvergerer mod en vækstbane.\n",
    "\n",
    "I skal tilføje en variabel i regressionsmodellen, som viser investeringsraten i humankapital korrigeret for befolkningsudviklingen, afskrivningsrate og teknologisk fremgang. I skal ligesom i ugeseddel 3 anvende en afskrivningsrate og vækst i teknologi på 0,075. Som en udvidelse til ugeseddel 3 skal I formelt teste forskellige hypoteser om absolut og betinget konvergens. I skal forklare, hvornår I skal bruge et _F_-test og et _t_-test og under hvilke antagelser, de giver valide resultater.\n",
    "\n",
    "Regressionsmodellen med humankapital kan omskrives til:\n",
    "\n",
    "$$\n",
    "gy_i = \\beta_0 + \\beta_1 \\log (y60_i) + \\beta_2 strucK_i + \\beta_3 strucH_i + \\epsilon_i \\tag{1}\n",
    "$$\n",
    "\n",
    "hvor de strukturelle karakteristika er \n",
    "- $ strucK_i = \\ln(sk_i) - \\ln(n_i + 0,075) $ \n",
    "- og $  strucH_i = \\ln(sh_i) - \\ln(n_i + 0,075) $\n",
    "\n",
    "I skal anvende det samme datasæt, som I brugte til ugeseddel 3.\n"
   ]
  },
  {
   "cell_type": "markdown",
   "metadata": {},
   "source": [
    "\n",
    "---\n",
    "\n",
    "### Gruppespørgsmål\n"
   ]
  },
  {
   "cell_type": "markdown",
   "metadata": {},
   "source": [
    "#### Opgave 1 \n",
    "I kan pålægge en model parameterrestriktioner for at omskrive den til en mere simpel model og indføre disse som en nulhypotese. Den udvidede Solow-model (1) indeholder også den simple regressionsmodel fra spørgsmål 4 i ugeseddel 3, hvor I så på hypotesen om absolut konvergens. Hvad er parameterrestriktionerne og derved nulhypotesen i den udvidede model (1), hvis I gerne vil teste hypotesen om absolut konvergens? Hvad er alternativ hypotesen?\n",
    "\n"
   ]
  },
  {
   "cell_type": "markdown",
   "metadata": {},
   "source": [
    "**Dit svar:**"
   ]
  },
  {
   "cell_type": "markdown",
   "metadata": {},
   "source": []
  },
  {
   "cell_type": "markdown",
   "metadata": {},
   "source": [
    "#### Opgave 2 \n",
    "Giv et forslag til et relevant test, som I kan bruge til at teste nulhypotesen i gruppespørgsmål 1. Hvad er antallet af parameterrestriktioner, som I gerne vil teste?\n",
    "\n"
   ]
  },
  {
   "cell_type": "markdown",
   "metadata": {},
   "source": [
    "**Dit svar:**"
   ]
  },
  {
   "cell_type": "markdown",
   "metadata": {},
   "source": []
  },
  {
   "cell_type": "markdown",
   "metadata": {},
   "source": [
    "#### Opgave 3\n",
    "\n",
    "Hvilke antagelser skal være opfyldt for, at det foreslåede test i gruppespørgsmål 2 er validt?\n",
    "\n"
   ]
  },
  {
   "cell_type": "markdown",
   "metadata": {},
   "source": [
    "**Dit svar:**"
   ]
  },
  {
   "cell_type": "markdown",
   "metadata": {},
   "source": []
  },
  {
   "cell_type": "markdown",
   "metadata": {},
   "source": [
    "---\n",
    "\n",
    "### Python øvelser\n"
   ]
  },
  {
   "cell_type": "markdown",
   "metadata": {},
   "source": [
    "\n",
    "#### Opgave 1\n",
    "Indlæs data i Python. Fjern de lande, som har datakvalitet D, og lande, som mangler observationer for investeringsraten i humankapital, **sh**. Herefter bør I have 77 lande tilbage.\n",
    "\n",
    "_Hint:_ Hvis du vil tjekke om en variabel indeholder manglende observationer kan du bruge en af de to komplementære kommandoer:\n",
    "```py\n",
    "df['sh'].notnull()\n",
    "df['sh'].isnull()\n",
    "\n",
    "```"
   ]
  },
  {
   "cell_type": "markdown",
   "metadata": {},
   "source": [
    "**Din kode:**"
   ]
  },
  {
   "cell_type": "code",
   "execution_count": null,
   "metadata": {},
   "outputs": [],
   "source": []
  },
  {
   "cell_type": "markdown",
   "metadata": {},
   "source": [
    "---\n",
    "#### --- INTERMISSION --- \n",
    "Inden vi går videre med de næste opgaver, skal I lære en smart genvej i `statsmodels`, som gør det lidt simplere at køre regressioner. \n",
    "\n",
    "Indtil videre har vi manuelt udformet vores $X$-matrix, tilføjet en konstant og udformet vores $y$-vektor. Alt det kan vi faktisk springe over og i stedet bare specificere vores ønskede model med en tekststreng. Til det formål skal vi lige importere et nyt model fra statsmodels:\n",
    "\n",
    "```py\n",
    "import statsmodels.formula.api as smf\n",
    "```\n",
    "\n",
    "Prøv nu fx at regressere BNP vækst (`gy`) på befolkningstilvækst (`n`) og investeringsraten i kapital per indbygger (`sk`). Brug kommandoen\n",
    "```py\n",
    "results = smf.ols('gy ~ n + sk', data=df).fit()\n",
    "print(results.summary())\n",
    "```\n",
    "\n",
    "Som du kan se af outputtet sørger statsmodels selv for at tilføje en konstant. Hvis du vil tilføje flere forklarende variable til regressionen, skal du bare tilføje flere led til tekststrengen\n"
   ]
  },
  {
   "cell_type": "markdown",
   "metadata": {},
   "source": [
    "**Din kode:** "
   ]
  },
  {
   "cell_type": "code",
   "execution_count": null,
   "metadata": {},
   "outputs": [],
   "source": []
  },
  {
   "cell_type": "markdown",
   "metadata": {},
   "source": [
    "--- "
   ]
  },
  {
   "cell_type": "markdown",
   "metadata": {},
   "source": [
    "#### Opgave 2\n",
    "Estimer den udvidede model (1) med `statsmodels`. Hvad er fortolkningen af $ \\widehat{\\beta}_1 $? Sammenlign estimatet af $ \\beta_1 $ fra spørgsmål 7 i ugeseddel 3.\n",
    "\n"
   ]
  },
  {
   "cell_type": "markdown",
   "metadata": {},
   "source": [
    "**Din kode:**"
   ]
  },
  {
   "cell_type": "code",
   "execution_count": null,
   "metadata": {},
   "outputs": [],
   "source": []
  },
  {
   "cell_type": "markdown",
   "metadata": {},
   "source": [
    "**Dit svar:**"
   ]
  },
  {
   "cell_type": "markdown",
   "metadata": {},
   "source": []
  },
  {
   "cell_type": "markdown",
   "metadata": {},
   "source": [
    "#### Opgave 3\n",
    "Hvad er nul- og alternativ hypotesen for modellens samlede signifikans? Hvilket test skal I bruge for at teste nulhypotesen? Hvad er teststørrelsen og den kritiske værdi, og kan nulhypotesen afvises? Vær præcise, når I formulerer nul- og alternativ hypotesen i ord.\n",
    "\n",
    "_Hint:_ for at finde den kritiske værdi til et _F_-test kan du bruge Python-pakken scipy:\n",
    "```py\n",
    "import scipy\n",
    "q = ... # det ønskede signifikansniveau\n",
    "dfn = ... # antal frihedsgrader i tælleren\n",
    "dfd = ... # antal frihedsgrader i nævneren\n",
    "scipy.stats.f.ppf(1-q, dfn, dfd)\n",
    "```"
   ]
  },
  {
   "cell_type": "markdown",
   "metadata": {},
   "source": [
    "**Din kode:**"
   ]
  },
  {
   "cell_type": "code",
   "execution_count": null,
   "metadata": {},
   "outputs": [],
   "source": []
  },
  {
   "cell_type": "markdown",
   "metadata": {},
   "source": [
    "**Dit svar:**"
   ]
  },
  {
   "cell_type": "markdown",
   "metadata": {},
   "source": []
  },
  {
   "cell_type": "markdown",
   "metadata": {},
   "source": [
    "\n",
    "#### Opgave 4\n",
    "Hvad er nul- og alternativ hypoteserne for hver af de individuelle forklarende variable? Hvilket test skal I bruge for at teste nulhypoteserne? Hvad er teststørrelserne og den kritiske værdi, og kan nulhypoterne afvises? Vær præcise, når I formulerer nul- og alternativ hypoteserne i ord.\n"
   ]
  },
  {
   "cell_type": "markdown",
   "metadata": {},
   "source": [
    "**Din kode:**"
   ]
  },
  {
   "cell_type": "code",
   "execution_count": null,
   "metadata": {},
   "outputs": [],
   "source": []
  },
  {
   "cell_type": "markdown",
   "metadata": {},
   "source": [
    "**Dit svar:**"
   ]
  },
  {
   "cell_type": "markdown",
   "metadata": {},
   "source": []
  },
  {
   "cell_type": "markdown",
   "metadata": {},
   "source": [
    "\n",
    "#### Opgave 5\n",
    "Hvad er en passende alternativ hypotese, når I tester $ \\beta_1 = 0 $ i model (1)? Udfør testet. \n",
    "\n",
    "[Hint: Hvilken betydning har hypotesen om betinget konvergens for $ \\beta_1 $? Tag udgangspunkt i gruppespørgsmål i ugeseddel 3]\n"
   ]
  },
  {
   "cell_type": "markdown",
   "metadata": {},
   "source": [
    "**Din kode:**"
   ]
  },
  {
   "cell_type": "code",
   "execution_count": null,
   "metadata": {},
   "outputs": [],
   "source": []
  },
  {
   "cell_type": "markdown",
   "metadata": {},
   "source": [
    "**Dit svar:**"
   ]
  },
  {
   "cell_type": "markdown",
   "metadata": {},
   "source": []
  },
  {
   "cell_type": "markdown",
   "metadata": {},
   "source": [
    "\n",
    "#### Opgave 6\n",
    "I skal nu undersøge, om de strukturelle karakteristika samlet set kan udelades fra regressionsmodellen. Opskriv den relevante nulhypotese til F-testet ved at tage udgangspunkt i gruppespørgsmålene.\n",
    "\n",
    "1. Udregn _F_-testet i hånden. I skal tage udgangspunkt i ligning [4.37] i Wooldridge (7. udgave). I skal bruge resultaterne fra spørgsmål 2 samt estimere en restrikteret model, hvor nulhypotesen fra gruppespørgsmålene er pålagt.\n",
    "\n",
    "2. Lad Python udregne _F_-testet. Hvis dit OLS resultat-objekt fra statsmodels hedder `results` kan du bruge følgende kommando:\n",
    "\n",
    "    ```py\n",
    "    hypotheses = '(strucK = strucH = 0)'\n",
    "    f_test = results.f_test(hypotheses)\n",
    "    print(f_test)\n",
    "    ```\n",
    "3. Tjek at resultaterne  er ens.\n"
   ]
  },
  {
   "cell_type": "markdown",
   "metadata": {},
   "source": [
    "**Din kode:**"
   ]
  },
  {
   "cell_type": "code",
   "execution_count": null,
   "metadata": {},
   "outputs": [],
   "source": [
    "# Manual calculation of F_test\n",
    "## 1. Get the SSR of the restricted model\n",
    "\n",
    "\n",
    "## 2. Get the SSR of the unrestricted model\n",
    "\n",
    "\n",
    "## 3. Calculate the F-test\n",
    "\n",
    "\n",
    "## 4. Print critical value\n"
   ]
  },
  {
   "cell_type": "code",
   "execution_count": null,
   "metadata": {},
   "outputs": [],
   "source": [
    "# Statsmodels F-test\n"
   ]
  },
  {
   "cell_type": "markdown",
   "metadata": {},
   "source": [
    "**Dit svar:**"
   ]
  },
  {
   "cell_type": "markdown",
   "metadata": {},
   "source": []
  },
  {
   "cell_type": "markdown",
   "metadata": {},
   "source": [
    "\n",
    "#### Opgave 7\n",
    "I dette spørgsmål skal I implementere jeres egen version af OLS-estimatoren i MLR-tilfældet – ligesom i Problem Set 3. Denne gang skal jeres implementerede funktion dog både returnere OLS-parameterestimaterne og deres standardfejl.\n",
    " \n",
    "Ligning (2) og (3) nedenfor viser formlen for OLS-estimatoren med homoskedastiske standardfejl.\n",
    "\n",
    "$$\n",
    "\\widehat{\\beta} = (X'X)^{-1}X'y \\tag{2}\n",
    "$$\n",
    "\n",
    "$$\n",
    "\\text{var}(\\widehat{\\beta} | X) = \\sigma^2 (X'X)^{-1}, \\quad \\sigma^2 = \\frac{1}{N-K} \\widehat{U}' \\widehat{U} \\tag{3}\n",
    "$$\n",
    "\n",
    "hvor \n",
    "- $ N $ er antallet af observationer, \n",
    "- $ K $ er antallet af parametre inkl. et konstantled \n",
    "- $ \\widehat{U} \\equiv y - X\\widehat{\\beta} $ er residualerne.\n",
    "- $ \\sigma^2 $ er residualvariansen\n",
    "- Standardfejlene er kvadratroden af diagonalelementerne i kovarians-matricen $\\text{var}(\\widehat{\\beta} | X)$\n",
    "\n",
    "Brug din funktion til at estimere model (1) og bekræft, at du får de samme parameterestimator og standardfejl som statsmodels giver.\n",
    "\n",
    "_Tip:_ Du kan tilgå diagonalelementerne af en matrix $A$ i numpy ved hjælp af `np.diagonal(A)`"
   ]
  },
  {
   "cell_type": "code",
   "execution_count": 78,
   "metadata": {},
   "outputs": [],
   "source": [
    "def ols(X, y):\n",
    "    N = ... # din kode her\n",
    "    K = ... # din kode her\n",
    "    beta_hat = ... # din kode her\n",
    "    U_hat = ... # din kode her\n",
    "    sigma2 = ... # din kode her\n",
    "    var_beta_hat = ... # din kode her\n",
    "    se_ols = ... # din kode her\n",
    "    \n",
    "    return beta_hat, se_ols    \n"
   ]
  },
  {
   "cell_type": "markdown",
   "metadata": {},
   "source": [
    "Kør nedenstående celle for at estimere model (1) ved hjælp af din egen funktion:"
   ]
  },
  {
   "cell_type": "code",
   "execution_count": null,
   "metadata": {},
   "outputs": [],
   "source": [
    "X = df[['lny60', 'strucK', 'strucH']].values\n",
    "X = sm.add_constant(X)\n",
    "y = df['gy']\n",
    "\n",
    "beta_hat, se_beta_hat = ols(X, y)\n",
    "\n",
    "print('vars')\n",
    "print('const, lny60, strucK, strucH')\n",
    "print('beta_hat')\n",
    "print(beta_hat.round(4))\n",
    "print('se_beta_hat')\n",
    "print(se_beta_hat.round(4))"
   ]
  },
  {
   "cell_type": "markdown",
   "metadata": {},
   "source": [
    "Hej igen2"
   ]
  }
 ],
 "metadata": {
  "kernelspec": {
   "display_name": "Python 3 (ipykernel)",
   "language": "python",
   "name": "python3"
  },
  "language_info": {
   "codemirror_mode": {
    "name": "ipython",
    "version": 3
   },
   "file_extension": ".py",
   "mimetype": "text/x-python",
   "name": "python",
   "nbconvert_exporter": "python",
   "pygments_lexer": "ipython3",
   "version": "3.9.13"
  }
 },
 "nbformat": 4,
 "nbformat_minor": 2
}
