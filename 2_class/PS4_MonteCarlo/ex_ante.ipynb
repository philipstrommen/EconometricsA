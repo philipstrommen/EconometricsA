{
 "cells": [
  {
   "cell_type": "code",
   "execution_count": 2,
   "metadata": {},
   "outputs": [],
   "source": [
    "import numpy as np\n",
    "import pandas as pd\n",
    "import statsmodels.api as sm\n",
    "import seaborn as sns"
   ]
  },
  {
   "cell_type": "markdown",
   "metadata": {},
   "source": [
    "# Problem Set 4\n",
    "## Monte Carlo Eksperimenter\n",
    "\n",
    "I ugeseddel 4 skal I arbejde med et simulationsstudie, hvor I skal undersøge og sammenligne en simpel og multipel OLS estimator i et tilfælde med udeladt variabelbias. Generelt kan I bruge Monte Carlo eksperimenter til at opstille en model, hvor I kan kontrollere alle aspekter af den, undersøge egenskaber ved en estimator, f.eks. hvis MLR.1 til MLR.4 ikke er opfyldt, eller hvis I ønsker at undersøge en ny estimator eller undersøge asymptotiske resultater.\n",
    "\n",
    "I denne ugeseddel skal I se nærmere på følgende datagenererende proces (DGP): \n",
    "\n",
    "\\begin{align}\n",
    "y_i &= \\beta_0 + \\beta_1 x_{1i} +\\beta_2 x_{2i}+ u_i, \\\\\n",
    "\\beta_0 &= 1,\\, \\beta_1 = 2, \\beta_2=-3, \\\\\n",
    "x_1 &\\sim N(25,25),\\, u\\sim U(-50,50), \\, \\, x_2^*\\sim U(10,30) \\\\\n",
    "x_2 &= \\rho x_1 + x_2^*, \\, \\rho=0.5, \\, n=50\n",
    "\\end{align}\n",
    "\n",
    "Den datagenerende proces specificerer de sande værdier af $\\beta_0$, $\\beta_1$ og $\\beta_2$ samt fordelingerne af $x_1$, $x_2$ og $u$. I dette tilfælde viser ligning (2) de sande parameterværdier, ligning (3) viser hvilken fordeling $x_1$, $x_2^*$ og $u$ er trukket fra, og ligning (1) viser sammenhængen imellem dem i en lineær regression. Ligning (4) viser, at $x_2$ er en lineær funktion af de stokastiske variable $x_1$ og $x_2^*$, hvor $\\rho$ angiver hvor meget $x_2$ afhænger af $x_1$.\n",
    "\n",
    "I skal undersøge og sammenligne egenskaberne for OLS estimatoren i en simpel og multipel regressionsmodel. Nedenfor er udtrykket for OLS estimatoren for $\\beta_1$ i det simple tilfælde, $\\widetilde{\\beta}_1$, og i et tilfælde med flere forklarende variable, $\\widehat{\\beta}_1$.\n",
    "\n",
    "\\begin{align} \\tag{5}\n",
    "\\widetilde{\\beta }_{1}& =\\frac{\\sum_{i}(x_{i1}-\\bar{x}_{1})(y_{i}-\\bar{y})}{%\n",
    "\\sum_{i}(x_{i1}-\\bar{x}_{1})^{2}} \\\\[8pt]\n",
    "\\widehat{\\beta }& =\\left( \n",
    "\\begin{array}{c} \\tag{6}\n",
    "\\widehat{\\beta }_{0} \\\\ \n",
    "\\widehat{\\beta }_{1} \\\\ \n",
    "\\widehat{\\beta }_{2}%\n",
    "\\end{array}%\n",
    "\\right) =(X^{\\prime }X)^{-1}X^{\\prime }y\n",
    "\\end{align}%\n",
    "hvor $X$ i ligning (6) indeholder information om $x_{1}$, $x_{2}$ og en konstant. \n"
   ]
  },
  {
   "cell_type": "markdown",
   "metadata": {},
   "source": [
    "## Gruppespørgsmål"
   ]
  },
  {
   "cell_type": "markdown",
   "metadata": {},
   "source": [
    "**Opgave 1:** Forventer I en positiv eller negativ bias, når I estimerer en simpel model kun med $x_1$? Hvad er størrelsen på den asymptotiske bias? Beregn dette (brug pen og papir).\n",
    "\n",
    "[Anvend følgende udtryk for asymptotisk bias, hvor $\\widetilde{u}=\\beta_2x_2 + u$]\n",
    "\\begin{align*}\n",
    "p\\text{lim}(\\widetilde{\\beta}_1)-\\beta_1 = \\frac{\\text{Cov}(x_1,\\widetilde{u})}{%\n",
    "\\text{Var}(x_1)}\n",
    "\\end{align*}\n"
   ]
  },
  {
   "cell_type": "markdown",
   "metadata": {},
   "source": [
    "**Dit svar:**"
   ]
  },
  {
   "cell_type": "markdown",
   "metadata": {},
   "source": []
  },
  {
   "cell_type": "markdown",
   "metadata": {},
   "source": [
    "**Opgave 2:** Opfylder den datagenererende proces MLR.1 til MLR.4? "
   ]
  },
  {
   "cell_type": "markdown",
   "metadata": {},
   "source": [
    "**Dit svar:**"
   ]
  },
  {
   "cell_type": "markdown",
   "metadata": {},
   "source": []
  },
  {
   "cell_type": "markdown",
   "metadata": {},
   "source": [
    "**Opgave 3:** Hvordan kan et Monte Carlo-eksperiment blive brugt til at sammenligne variansen fra to forskellige middelrette estimatorer?"
   ]
  },
  {
   "cell_type": "markdown",
   "metadata": {},
   "source": [
    "**Dit svar:**"
   ]
  },
  {
   "cell_type": "markdown",
   "metadata": {},
   "source": []
  },
  {
   "cell_type": "markdown",
   "metadata": {},
   "source": [
    "## Python øvelser"
   ]
  },
  {
   "cell_type": "markdown",
   "metadata": {},
   "source": [
    "### Opgave 1\n",
    "\n",
    "I skal starte med at opstille Monte Carlo eksperimentet i Python. I skal udfylde den del af Python-koden, som mangler. I skal først køre Monte Carlo eksperimentet, når I har skrevet al koden ind. Der skal udfyldes manglende kode i hvert af de fire steps angivet i kommentarerne til funktionen herunder."
   ]
  },
  {
   "cell_type": "code",
   "execution_count": null,
   "metadata": {},
   "outputs": [],
   "source": [
    "def simulate():\n",
    "\t## Step 1. Definer parameterværdier\n",
    "\tn = 50\n",
    "\trho = 0.5\n",
    "\tbeta0 = ... # Indsæt manglende værdi her\n",
    "\tbeta1 = ... # Indsæt manglende værdi her\n",
    "\tbeta2 = ... # Indsæt manglende værdi her\n",
    "\n",
    "\t# Step 2. Simular data\n",
    "\tx1 = np.random.normal(loc=25, scale=5, size=n) # Trækker x1 fra normalfordeling\n",
    "\tu  = np.random.uniform(low=-50, high=50, size=n) # Trækker u fra uniformfordeling\n",
    "\tx2_star = np.random.uniform(low=10, high=30, size=n) # Trækker x2* fra uniformfordeling\n",
    "\tx2 = ... # Indsæt manglende kode her\n",
    "\ty = ... # Indsæt manglende kode her\n",
    "\n",
    "\t## Step 3: Estimer SLR modellen (y ~ x1)\n",
    "\tX = pd.DataFrame({'x1': x1}) \n",
    "\tX = sm.add_constant(X) \n",
    "\tSLR_model   = ... # Indsæt manglende kode her\n",
    "\tSLR_results = ... # Indsæt manglende kode her\n",
    "\tbeta1_SLR = SLR_results.params['x1'] # Gemmer beta1 fra SLR-estimatet\n",
    "\n",
    "\t# Step 4: Estimer MLR modellen (y ~ x1 + x2)\n",
    "\tX = pd.DataFrame({'x1': x1, 'x2': x2}) \n",
    "\tX = sm.add_constant(X) \n",
    "\tMLR_model   = ... # Indsæt manglende kode her\n",
    "\tMLR_results = ... # Indsæt manglende kode her\n",
    "\tbeta1_MLR = MLR_results.params['x1'] # Gemmer beta1 fra MLR-estimatet\n",
    "\n",
    "\treturn beta1_SLR, beta1_MLR"
   ]
  },
  {
   "cell_type": "code",
   "execution_count": null,
   "metadata": {},
   "outputs": [],
   "source": [
    "### Denne funktion kører vores simulering 1000 gange og gemmer resultaterne i et DataFrame.\n",
    "def monte_carlo(reps=1000):\n",
    "\tnp.random.seed(0) # Sæt seed så vi får samme tilfældige resultater hver gang\n",
    "\tSLR_results = [] # Liste til at gemme beta1 resultater fra SLR\n",
    "\tMLR_results = [] # Liste til at gemme beta1 resultater fra MLR\n",
    "\n",
    "\tfor r in range(reps): # Kør simulationen \"reps\" antal gange\n",
    "\t\tbeta1_MLR, beta1_SLR = simulate()\n",
    "\t\tSLR_results.append(beta1_MLR)\n",
    "\t\tMLR_results.append(beta1_SLR)\n",
    "\n",
    "\t# Saml alle resultaterne i et pandas DataFrame\n",
    "\tresults = pd.DataFrame({'beta1_SLR': SLR_results, 'beta1_MLR': MLR_results})\n",
    "\n",
    "\treturn results"
   ]
  },
  {
   "cell_type": "markdown",
   "metadata": {},
   "source": [
    "Kør simulationen og gem resultaterne:"
   ]
  },
  {
   "cell_type": "code",
   "execution_count": null,
   "metadata": {},
   "outputs": [],
   "source": [
    "results = monte_carlo()"
   ]
  },
  {
   "cell_type": "markdown",
   "metadata": {},
   "source": [
    "### Opgave 2 \n",
    "Sammenlign $\\widetilde{\\beta}_1$ og $\\widehat{\\beta}_1$. Stemmer resultaterne overens med det, som I fandt i gruppespørgsmål 1? I kan bruge pandas metoden `.describe()` til at se gennemsnittet og variansen af $\\widetilde{\\beta}_1$ og $\\widehat{\\beta}_1$ fra eksperimentet."
   ]
  },
  {
   "cell_type": "markdown",
   "metadata": {},
   "source": [
    "**Din kode:**"
   ]
  },
  {
   "cell_type": "code",
   "execution_count": null,
   "metadata": {},
   "outputs": [],
   "source": []
  },
  {
   "cell_type": "markdown",
   "metadata": {},
   "source": [
    "**Dit svar:**"
   ]
  },
  {
   "cell_type": "markdown",
   "metadata": {},
   "source": []
  },
  {
   "cell_type": "markdown",
   "metadata": {},
   "source": [
    "### Opgave 3\n",
    "Kør et Monte Carlo eksperiment med $n=10$ og $n=100$. Sammenlign $\\widetilde{\\beta}_1$ og $\\widehat{\\beta}_1$. Er både $\\widetilde{\\beta}_1$ og $\\widehat{\\beta}_1$ konsistente estimatorer for $\\beta_1$?"
   ]
  },
  {
   "cell_type": "markdown",
   "metadata": {},
   "source": [
    "**Dit svar:**"
   ]
  },
  {
   "cell_type": "markdown",
   "metadata": {},
   "source": []
  },
  {
   "cell_type": "markdown",
   "metadata": {},
   "source": [
    "### Opgave 4\n",
    "Kør er Monte Carlo eksperiment med $\\rho=1$ og $\\rho=0$ (og $n = 50$). Er multikolinearitet et problem, når $\\rho = 1$? Bliver den asymptotiske bias større eller mindre? Hvis den gør, hvorfor er det tilfældet? Hvilken forskel er der i variansen af $\\widetilde{\\beta}_1$ og $\\widehat{\\beta}_1$, når $\\rho = 0$? Hvilken estimator vil I foretrække?"
   ]
  },
  {
   "cell_type": "markdown",
   "metadata": {},
   "source": [
    "**Dit svar:**"
   ]
  },
  {
   "cell_type": "markdown",
   "metadata": {},
   "source": []
  },
  {
   "cell_type": "markdown",
   "metadata": {},
   "source": [
    "### Opgave 5\n",
    "Kør et Monte Carlo eksperiment med $\\rho=0.5$ og $\\beta_2=0$. Sammenlign $\\widetilde{\\beta}_1$ og $\\widehat{\\beta}_1$. Hvilken er estimator vil I foretrække i dette tilfælde?"
   ]
  },
  {
   "cell_type": "markdown",
   "metadata": {},
   "source": [
    "**Dit svar:**"
   ]
  },
  {
   "cell_type": "markdown",
   "metadata": {},
   "source": []
  },
  {
   "cell_type": "markdown",
   "metadata": {},
   "source": [
    "### Opgave 6\n",
    "Kør det oprindelige Monte Carlo eksperiment med et andet seed-nummer. I kan f.eks. sætte seed-nummeret til det år, I er født. Hvad kan I konkludere om $\\widetilde{\\beta}_1$ og $\\widehat{\\beta}_1$ ud fra denne ændring?"
   ]
  },
  {
   "cell_type": "markdown",
   "metadata": {},
   "source": [
    "**Dit svar:**"
   ]
  },
  {
   "cell_type": "markdown",
   "metadata": {},
   "source": []
  },
  {
   "cell_type": "markdown",
   "metadata": {},
   "source": [
    "### Ekstraopgave: \n",
    "Hvis I har mere tid tilbage, kan I lave histogrammer af  $\\widetilde{\\beta}_1$ og $\\widehat{\\beta}_1$  for hver ændring i Monte Carlo eksperimentet fra spørgsmål 2 til 6. I kan bruge koden nedenfor. Husk at gemme histogrammerne efter hver simulation, hvis I gerne vil sammenligne med det oprindelige eksperiment.\n",
    "\n",
    "```py\n",
    "import seaborn as sns\n",
    "sns.histplot(results);\n",
    "```"
   ]
  },
  {
   "cell_type": "markdown",
   "metadata": {},
   "source": [
    "**Din kode:**"
   ]
  },
  {
   "cell_type": "code",
   "execution_count": null,
   "metadata": {},
   "outputs": [],
   "source": []
  }
 ],
 "metadata": {
  "kernelspec": {
   "display_name": "base",
   "language": "python",
   "name": "python3"
  },
  "language_info": {
   "codemirror_mode": {
    "name": "ipython",
    "version": 3
   },
   "file_extension": ".py",
   "mimetype": "text/x-python",
   "name": "python",
   "nbconvert_exporter": "python",
   "pygments_lexer": "ipython3",
   "version": "3.12.2"
  }
 },
 "nbformat": 4,
 "nbformat_minor": 2
}
